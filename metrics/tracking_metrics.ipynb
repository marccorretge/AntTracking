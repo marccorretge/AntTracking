{
   "cells": [
      {
         "cell_type": "code",
         "execution_count": 407,
         "metadata": {},
         "outputs": [
            {
               "name": "stdout",
               "output_type": "stream",
               "text": [
                  "[6.4, 4.8]\n"
               ]
            }
         ],
         "source": [
            "# USE val ENVOIRMENT\n",
            "import os\n",
            "from evaldet import Tracks\n",
            "from evaldet import mot\n",
            "from matplotlib import pyplot as plt\n",
            "import numpy as np\n",
            "import pandas as pd\n",
            "\n",
            "\n",
            "#pd.set_option('precision', 2)\n",
            "\n",
            "print(plt.rcParams[\"figure.figsize\"])"
         ]
      },
      {
         "cell_type": "code",
         "execution_count": 408,
         "metadata": {},
         "outputs": [
            {
               "name": "stdout",
               "output_type": "stream",
               "text": [
                  "34641 69.39211220461284 70.15364920845235\n"
               ]
            }
         ],
         "source": [
            "YOLO_LETTER = \"n\"\n",
            "YOLO_VIDEO = \"ant_subset_1-028\"\n",
            "YOLO_DATASET = \"Marc\"\n",
            "EVAL_NUM = \"8\"\n",
            "\n",
            "gt_tracks = Tracks.from_mot(\"/mnt/work/users/marc.corretge/GT/ant_subset_1-024_GT.txt\")\n",
            "\n",
            "MOT_PATH = r\"E:\\TFG\\manualTrackAnnotation\\variant_iouThreshold_split\\resultsEvalPerMemoria_iouSplit-0.50\\ant_subset_1-024_YOLOv8n_Marc_MOT_OCSORT_ct_dist.txt\"\n",
            "\n",
            "\n",
            "#  Final declaracio de variables\n",
            "#################################################################################################################################\n",
            "#################################################################################################################################\n",
            "#################################################################################################################################\n",
            "#################################################################################################################################\n",
            "#  Inici del codi\n",
            "\n",
            "\n",
            "\n",
            "#OUT_MOT_PATH_151 = MOT_PATH.replace(\".csv\", \"_151.txt\")\n",
            "format = MOT_PATH.split('.')[-1]\n",
            "OUT_MOT_PATH_CLEAN = MOT_PATH.replace(\".\" + format, \"_clean.\" + format)\n",
            "\n",
            "with open(MOT_PATH, 'r') as fin:\n",
            "        data = fin.read().splitlines(True)\n",
            "    \n",
            "if data[0].split(',')[0] == 'frame':\n",
            "    MOT = data[1:]\n",
            "else:\n",
            "    MOT = data  \n",
            "\n",
            "MOT = np.array([i.split(',') for i in MOT]).astype(float)\n",
            "\n",
            "# Crear una máscara para identificar las filas que cumplen con las condiciones dadas\n",
            "mask = np.logical_and(MOT[:,2] == -1, MOT[:,4] == 0)\n",
            "# Filtrar el array MOT excluyendo las filas que cumplen con las condiciones\n",
            "MOT = MOT[~mask]\n",
            "\n",
            "#mask = MOT[:, 0] <= 151\n",
            "#MOT = MOT[mask]\n",
            "\n",
            "a = 0\n",
            "b = 0\n",
            "c = 0\n",
            "#with open(OUT_MOT_PATH_151, \"w\") as f:\n",
            "#    for i in MOT:\n",
            "#        if i[2] == -1 and i[3] == -1:\n",
            "#            pass\n",
            "#            #f.write(f\"{int(i[0])},{int(i[1])},{i[2]},{i[3]},{i[4]},{i[5]},{i[6]},{i[7]},{i[8]},{i[9]}\\n\")\n",
            "#        else:\n",
            "#            a += 1\n",
            "#            b += i[5]\n",
            "#            c += i[4]\n",
            "#            f.write(f\"{int(i[0])},{int(i[1])},{i[2]},{i[3]},{i[4]},{i[5]},{i[6]},{int(i[7])},{int(i[8])},{int(i[9])}\\n\")\n",
            "with open(OUT_MOT_PATH_CLEAN, \"w\") as f:\n",
            "    for i in MOT:\n",
            "        if i[2] == -1 and i[3] == -1:\n",
            "            pass\n",
            "            #f.write(f\"{int(i[0])},{int(i[1])},{i[2]},{i[3]},{i[4]},{i[5]},{i[6]},{i[7]},{i[8]},{i[9]}\\n\")\n",
            "        else:\n",
            "            a += 1\n",
            "            b += i[5]\n",
            "            c += i[4]\n",
            "            f.write(f\"{int(i[0])},{int(i[1])},{i[2]},{i[3]},{i[4]},{i[5]},{i[6]},{int(i[7])},{int(i[8])},{int(i[9])}\\n\")\n",
            "print(a, b/a, c/a)"
         ]
      },
      {
         "cell_type": "code",
         "execution_count": 409,
         "metadata": {},
         "outputs": [],
         "source": [
            "\n",
            "#iter = \"iou_threshold=0.05\"\n",
            "\n",
            "#tracks = Tracks.from_mot(OUT_MOT_PATH_151)\n",
            "#os.remove(OUT_MOT_PATH_151)\n",
            "tracks = Tracks.from_mot(OUT_MOT_PATH_CLEAN)\n",
            "os.remove(OUT_MOT_PATH_CLEAN)\n",
            "\n",
            "#print(\"E:/TFG/code/EVALs/others/\" + iter + \"/all_ants_0-007_OCSORT_\" + MODEL_YOLO + \"-151.csv\")\n",
            "#tracks = Tracks.from_mot(\"E:/TFG/code/AntTracking/YOLO_TRACKING/2EVAL/151 frames/\" + YOLO_LETTER + \"/all_ants_0-007_YOLOTRACKING-YOLOv8\" + YOLO_LETTER + \"_best_Marc_MOT-OCSORT-151.csv\")\n",
            "\n",
            "#tracks = Tracks.from_mot(\"C:/Users/marcc/Downloads/STRONGSORT/\" + MODEL_YOLO + \"/all_ants_0-007_STRONGSORT_\" + MODEL_YOLO + \"-151.csv\")\n",
            "\n",
            "\n",
            "eval_obj = mot.MOTMetrics(clearmot_dist_threshold=0.5, id_dist_threshold=0.5)"
         ]
      },
      {
         "cell_type": "code",
         "execution_count": 410,
         "metadata": {},
         "outputs": [],
         "source": [
            "metrics = eval_obj.compute(gt_tracks, tracks, clearmot_metrics=True, id_metrics=True, hota_metrics=True)\n",
            "metrics['clearmot']['MOTP'] = 1 - metrics['clearmot']['MOTP']"
         ]
      },
      {
         "cell_type": "code",
         "execution_count": 411,
         "metadata": {},
         "outputs": [
            {
               "name": "stdout",
               "output_type": "stream",
               "text": [
                  "CLEARMOT\n",
                  "            MOTP      MOTA  FP_CLEAR  FN_CLEAR  IDSW\n",
                  "values  0.997858  0.984488       336       184    15\n",
                  "----------\n",
                  "IDs\n",
                  "         IDTP  IDFP  IDFN     IDP       IDR      IDF1\n",
                  "values  33193  1448  1296  0.9582  0.962423  0.960307\n",
                  "----------\n",
                  "HOTA\n",
                  "            HOTA      DetA     AssA      LocA\n",
                  "values  0.958818  0.982916  0.93531  0.997981\n"
               ]
            }
         ],
         "source": [
            "print('CLEARMOT')\n",
            "print(pd.DataFrame(metrics['clearmot'], index=['values']))\n",
            "print('-' * 10)\n",
            "print('IDs')\n",
            "print(pd.DataFrame(metrics['id'], index=['values']))\n",
            "print('-' * 10)\n",
            "print('HOTA')\n",
            "print(pd.DataFrame({k : v for k, v in metrics['hota'].items() if k in ['HOTA', 'DetA', 'AssA', 'LocA']}, index=['values']))"
         ]
      },
      {
         "cell_type": "code",
         "execution_count": 412,
         "metadata": {},
         "outputs": [
            {
               "name": "stdout",
               "output_type": "stream",
               "text": [
                  "----------\n",
                  "HOTA alpha\n",
                  "      $HOTA_\\alpha$  $DetA_\\alpha$  $AssA_\\alpha$  $LocA_\\alpha$\n",
                  "0.05       0.949008       0.972494       0.926089       0.999898\n",
                  "0.10       0.950941       0.974691       0.927770       0.999812\n",
                  "0.15       0.952529       0.976385       0.929255       0.999707\n",
                  "0.20       0.953885       0.977799       0.930556       0.999585\n",
                  "0.25       0.954632       0.978648       0.931206       0.999488\n",
                  "0.30       0.955299       0.979668       0.931537       0.999342\n",
                  "0.35       0.956559       0.980973       0.932753       0.999077\n",
                  "0.40       0.958024       0.982563       0.934098       0.998714\n",
                  "0.45       0.959713       0.984214       0.935823       0.998310\n",
                  "0.50       0.960454       0.985182       0.936347       0.998018\n",
                  "0.55       0.961060       0.985467       0.937258       0.997960\n",
                  "0.60       0.961217       0.985581       0.937454       0.997796\n",
                  "0.65       0.961304       0.985695       0.937515       0.997673\n",
                  "0.70       0.962909       0.987579       0.938854       0.996858\n",
                  "0.75       0.963555       0.987694       0.940006       0.996346\n",
                  "0.80       0.963820       0.987694       0.940523       0.996076\n",
                  "0.85       0.964001       0.987694       0.940877       0.995886\n",
                  "0.90       0.964186       0.987694       0.941238       0.995680\n",
                  "0.95       0.964437       0.987694       0.941729       0.995417\n"
               ]
            }
         ],
         "source": [
            "print('-' * 10)\n",
            "print('HOTA alpha')\n",
            "\n",
            "new = '_\\\\'\n",
            "hota_alpha = pd.DataFrame({fr\"${k.replace('_', new)}$\" : v for k, v in metrics['hota'].items() if k not in ['HOTA', 'DetA', 'AssA', 'LocA', 'alphas_HOTA']}, index=metrics['hota']['alphas_HOTA'])\n",
            "print(hota_alpha)"
         ]
      },
      {
         "cell_type": "code",
         "execution_count": 413,
         "metadata": {},
         "outputs": [
            {
               "data": {
                  "text/plain": [
                     "Text(0.5, 1.0, 'HOTA alpha (ant_subset_1-028_YOLOv8n_Marc)')"
                  ]
               },
               "execution_count": 413,
               "metadata": {},
               "output_type": "execute_result"
            },
            {
               "data": {
                  "image/png": "[encoded data removed]",
                  "text/plain": [
                     "<Figure size 640x480 with 1 Axes>"
                  ]
               },
               "metadata": {},
               "output_type": "display_data"
            }
         ],
         "source": [
            "fig = hota_alpha.plot.line()\n",
            "fig.grid(True)\n",
            "fig.set_xlim(0, 1)\n",
            "fig.set_ylim(0, 1)\n",
            "fig.set_xlabel('alpha')\n",
            "fig.set_ylabel('value')\n",
            "fig.set_title('HOTA alpha (' + YOLO_VIDEO + \"_YOLOv8\" + YOLO_LETTER + \"_\" + YOLO_DATASET + ')')"
         ]
      }
   ],
   "metadata": {
      "kernelspec": {
         "display_name": "Python 3",
         "language": "python",
         "name": "python3"
      },
      "language_info": {
         "codemirror_mode": {
            "name": "ipython",
            "version": 3
         },
         "file_extension": ".py",
         "mimetype": "text/x-python",
         "name": "python",
         "nbconvert_exporter": "python",
         "pygments_lexer": "ipython3",
         "version": "3.11.9"
      },
      "orig_nbformat": 4
   },
   "nbformat": 4,
   "nbformat_minor": 2
}
